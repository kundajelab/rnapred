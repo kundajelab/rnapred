{
 "metadata": {
  "name": ""
 },
 "nbformat": 3,
 "nbformat_minor": 0,
 "worksheets": [
  {
   "cells": [
    {
     "cell_type": "code",
     "collapsed": false,
     "input": [
      "%matplotlib inline\n",
      "from rnapredUtils import *\n",
      "from rnapredCV import *\n",
      "\n",
      "expr_file = '/home/sofiakp/projects/roadmap/rna/Dec13/medusaInputs/noDupGenes/57epigenomes_mergedPc_expr.txt'\n",
      "gene_name_file = '/home/sofiakp/projects/roadmap/rna/Dec13/medusaInputs/noDupGenes/57epigenomes_mergedPc_genes.txt'\n",
      "expt_name_file = '/home/sofiakp/projects/roadmap/rna/Dec13/medusaInputs/noDupGenes/57epigenomes_mergedPc_exptnames.txt'\n",
      "out_dir = '/home/sofiakp/scg3_lab/users/sofiakp/roadmap/rnapred/feat_mat/'\n",
      "gene_file = '/home/sofiakp/projects/Anshul/data/tss/gencode19/gencode.v19.annotation.noM.genes.bed'\n",
      "all_expt_name_file = '/home/sofiakp/scg3_lab/users/sofiakp/roadmap/cell_line_ids.txt'\n",
      "gc_cont_file = '/home/sofiakp/scg3_lab/users/sofiakp/data/gencode/v19/gencode.v19.annotation.noM.genes.firstTSS.1k.gc'\n",
      "array_file = '/home/sofiakp/projects/roadmap/rna/exon_arrays/gene_avg_expr.npz'\n",
      "\n",
      "if not os.path.isdir(out_dir):\n",
      "    os.mkdir(out_dir)\n",
      "\n",
      "feat_names = ['H3K4me1.firstTSS.1k', 'H3K4me3.firstTSS.1k', \n",
      "              'H3K27me3.firstTSS.1k', 'H3K36me3.firstTSS.1k', 'H3K9me3.firstTSS.1k',\n",
      "              'H3K27me3.body.1k', 'H3K36me3.body.1k', 'H3K9me3.body.1k',\n",
      "              'H3K4me1.lastTES.1k', 'H3K4me3.lastTES.1k', \n",
      "              'H3K27me3.lastTES.1k', 'H3K36me3.lastTES.1k', 'H3K9me3.lastTES.1k',\n",
      "              'H3K27me3.firstTSS.1k', 'H3K36me3.firstTSS.1k', 'H3K9me3.firstTSS.1k',\n",
      "              'H3K27me3.body.1k', 'H3K36me3.body.1k', 'H3K9me3.body.1k',\n",
      "              'H3K27me3.lastTES.1k', 'H3K36me3.lastTES.1k', 'H3K9me3.lastTES.1k']\n",
      "\n",
      "out_feat_names = feat_names[0:13]\n",
      "out_feat_names.extend(['broad.' + f for f in feat_names[13:]])\n",
      "\n",
      "signal_dirs = ['/home/sofiakp/scg3_lab/users/sofiakp/roadmap/rnapred/signalAtPeaks/narrowPeaks/pval/'] * 13\n",
      "signal_dirs.extend(['/home/sofiakp/scg3_lab/users/sofiakp/roadmap/rnapred/signalAtPeaks/broadPeaks/pval/'] * 9)\n",
      "assert(len(feat_names) == len(signal_dirs))"
     ],
     "language": "python",
     "metadata": {},
     "outputs": [],
     "prompt_number": 27
    },
    {
     "cell_type": "code",
     "collapsed": false,
     "input": [
      "# Read data \n",
      "gene_names, short_expt_names, all_expt_names = read_rna_pred_data(\\\n",
      "                    expr_file, gene_name_file, expt_name_file, gc_cont_file, array_file,\n",
      "                    gene_file, all_expt_name_file, feat_names, signal_dirs,\n",
      "                    out_feat_names, out_dir, overwrite = True)\n",
      "\n",
      "np.savetxt(os.path.join(out_dir, 'all_expt_names.txt'), all_expt_names, fmt = ['%s'])\n",
      "np.savetxt(os.path.join(out_dir, 'train_expt_names.txt'), short_expt_names, fmt = ['%s'])"
     ],
     "language": "python",
     "metadata": {},
     "outputs": []
    },
    {
     "cell_type": "code",
     "collapsed": false,
     "input": [
      "# Compute correlation between exon arrays and RNA-seq\n",
      "\n",
      "out_cells = []\n",
      "cors = []\n",
      "outfile = os.path.join(out_dir, 'array_rnaseq_cor.txt')\n",
      "\n",
      "with open(os.path.join(out_dir, 'train_expt_names.txt'), 'r') as infile:\n",
      "    for line in infile:\n",
      "        ex = line.strip()\n",
      "        feat_mat_file = os.path.join(out_dir, ex + '_feat_mat.npz')\n",
      "        if not os.path.exists(feat_mat_file):\n",
      "            continue\n",
      "        data = np.load(feat_mat_file)\n",
      "        ex_ind = np.argwhere(np.array(data['feat_names']) == 'array_expr')[0][0]\n",
      "        out_cells.append(ex)\n",
      "        cors.append(np.corrcoef(data['y'], data['feat'][:, ex_ind])[0][1])\n",
      "        data.close()\n",
      "\n",
      "with open(outfile, 'w') as f:\n",
      "    for n, c in zip(out_cells, cors):\n",
      "        f.write('\\t'.join([n, str(c)]) + '\\n')"
     ],
     "language": "python",
     "metadata": {},
     "outputs": [],
     "prompt_number": 24
    },
    {
     "cell_type": "code",
     "collapsed": false,
     "input": [
      "# Plot the results of cross validation\n",
      "\n",
      "import pandas.rpy.common as com\n",
      "\n",
      "def plot_cv_r2(pandas_df, outfile):\n",
      "    ncv = len(set(list(pandas_df['title'])))\n",
      "    r_df = com.convert_to_r_dataframe(pandas_df)\n",
      "    fsize = 12\n",
      "    \n",
      "    gp = ggplot2.ggplot(r_df) + ggplot2.aes_string(x = 'factor(title)', y = 'r2') + \\\n",
      "        ggplot2.geom_boxplot() + \\\n",
      "        ggplot2.scale_x_discrete('Parameters') + ggplot2.theme_bw() + \\\n",
      "        ggplot2.theme(**{'axis.text.x':ggplot2.element_text(size = fsize, angle = 45, vjust = 1, hjust = 1),\n",
      "                         'axis.text.y':ggplot2.element_text(size = fsize)})\n",
      "    w = 5 * ncv\n",
      "    ro.r.ggsave(filename = outfile, plot = gp, width = w, height = 85, unit = 'mm')\n",
      "\n",
      "method = 'logLasso'\n",
      "cv_dir = os.path.join(out_dir, 'cv', method)\n",
      "\n",
      "with open(os.path.join(out_dir, 'train_expt_names.txt'), 'r') as infile:\n",
      "    for line in infile:\n",
      "        ex = line.strip()\n",
      "        cv_file = os.path.join(cv_dir, ex + '_cv.npz')\n",
      "        if not os.path.exists(cv_file):\n",
      "            continue\n",
      "        data = np.load(cv_file)\n",
      "        cv_res = data['cv_res']\n",
      "        data.close()\n",
      "        \n",
      "        if method == 'rf':\n",
      "            df = forest_cv_to_pandas_df(cv_res)\n",
      "        else:\n",
      "            df = logLass_cv_to_pandas_df(cv_res)\n",
      "        plot_cv_r2(df, os.path.join(cv_dir, 'plots', ex + '_cv.pdf'))\n",
      "        "
     ],
     "language": "python",
     "metadata": {},
     "outputs": [
      {
       "output_type": "stream",
       "stream": "stdout",
       "text": [
        "Don't know how to automatically pick scale for object of type AsIs. Defaulting to continuous\n"
       ]
      }
     ],
     "prompt_number": 102
    },
    {
     "cell_type": "code",
     "collapsed": false,
     "input": [
      "# Grid search on a single cell type to get optimal parameters\n",
      "\n",
      "\n",
      "    \n",
      "method = 'logLasso'\n",
      "cv_dir = os.path.join('/home/sofiakp/projects/roadmap/rnapred/feat_mat/cv/', method)\n",
      "if not os.path.isdir(cv_dir):\n",
      "    os.makedirs(cv_dir)\n",
      "\n",
      "ntrees_vals = [10, 50]\n",
      "min_leaf_vals = [10, 50]\n",
      "alphas = [0.0001, 0.001, 0.01, 0.1, 1, 10, 100]\n",
      "\n",
      "for ex in ['E116']:\n",
      "    feat_mat_file = os.path.join(out_dir, ex + '_feat_mat.npz')\n",
      "    if not os.path.exists(feat_mat_file):\n",
      "            continue\n",
      "    outfile = os.path.join(cv_dir, ex + '_cv.npz')\n",
      "    data = np.load(feat_mat_file)\n",
      "    if not 'y' in data: \n",
      "        continue\n",
      "    feat = data['feat']\n",
      "    y = data['y']\n",
      "    data.close()\n",
      "    cv = cross_validation.ShuffleSplit(feat.shape[0], n_iter = 10, test_size = 0.1, random_state = 0) \n",
      "    \n",
      "    if method == 'rf':\n",
      "        params = get_forest_params(ntrees_vals, min_leaf_vals)\n",
      "        clf_params = dict(params)\n",
      "        for p in clf_params:\n",
      "            p['criterion'] = 'entropy'\n",
      "        cv_res = cross_validate_grid(cv, RFClassifierRFRegressor, clf_params, params, feat, y, \n",
      "                                     zip_params = False, nproc = 10)\n",
      "    elif method == 'logLasso':\n",
      "        alphas_log = [{'penalty':'l2', 'C':a} for a in alphas]\n",
      "        alphas_ridge = [{'alpha':a} for a in alphas]\n",
      "        cv_res = cross_validate_grid(cv, LogClassifierRidgeRegressor, alphas_log, alphas_ridge,\n",
      "                                     feat, y, zip_params = False, nproc = 10)\n",
      "    print cv_res\n",
      "    np.savez(outfile, cv_res = cv_res)"
     ],
     "language": "python",
     "metadata": {},
     "outputs": [
      {
       "output_type": "stream",
       "stream": "stdout",
       "text": [
        "[({'penalty': 'l2', 'C': 0.0001}, {'alpha': 0.0001}, [0.69988358080060165, 0.68972553497550271, 0.69577701065217301, 0.70195656905298831, 0.69362506081422781, 0.70671602390974142, 0.69993736023865838, 0.68584968079572683, 0.69029653727307405, 0.68491019063298264]), ({'penalty': 'l2', 'C': 0.0001}, {'alpha': 0.001}, [0.69988359166479142, 0.68972553550740945, 0.6957770212506339, 0.70195645629751935, 0.69362504295184957, 0.70671605818632643, 0.69993741546925081, 0.68584968089776954, 0.69029662506555056, 0.68491013456186767]), ({'penalty': 'l2', 'C': 0.0001}, {'alpha': 0.01}, [0.69988369885245683, 0.68972553936413727, 0.69577712603620179, 0.70195532783629289, 0.69362486355349939, 0.7067164002629005, 0.69993796604959102, 0.68584968042548478, 0.69029750088667674, 0.68490957267259778]), ({'penalty': 'l2', 'C': 0.0001}, {'alpha': 0.1}, [0.69988462707238031, 0.68972543364003425, 0.69577805552650651, 0.70194395386670849, 0.69362299312228826, 0.70671975285243471, 0.6999433014591927, 0.68584952824625578, 0.69030605128315492, 0.68490383762221541]), ({'penalty': 'l2', 'C': 0.0001}, {'alpha': 1}, [0.69988112399359004, 0.68971167444617465, 0.69577688343500976, 0.70182242864577482, 0.69359753403728397, 0.70674712091379666, 0.69998154626782538, 0.68583488248933611, 0.69037305319929509, 0.68483634351213263]), ({'penalty': 'l2', 'C': 0.0001}, {'alpha': 10}, [0.6992834991692648, 0.68905444907403224, 0.69531886555283151, 0.70032373971393014, 0.69303900051358469, 0.70667996769167596, 0.69970822788196341, 0.6851070451507586, 0.6902223722462415, 0.683785960887342]), ({'penalty': 'l2', 'C': 0.0001}, {'alpha': 100}, [0.69032203613486698, 0.67999108345272641, 0.68766895637972913, 0.68727789197812084, 0.68373722043290308, 0.69893348317527126, 0.69212112429045192, 0.67448973867446105, 0.6828329845701937, 0.67392667453676647]), ({'penalty': 'l2', 'C': 0.001}, {'alpha': 0.0001}, [0.69988358080060165, 0.68972553497550271, 0.69577701065217301, 0.70195656905298831, 0.69362506081422781, 0.70671602390974142, 0.69993736023865838, 0.68584968079572683, 0.69029653727307405, 0.68491019063298264]), ({'penalty': 'l2', 'C': 0.001}, {'alpha': 0.001}, [0.69988359166479142, 0.68972553550740945, 0.6957770212506339, 0.70195645629751935, 0.69362504295184957, 0.70671605818632643, 0.69993741546925081, 0.68584968089776954, 0.69029662506555056, 0.68491013456186767]), ({'penalty': 'l2', 'C': 0.001}, {'alpha': 0.01}, [0.69988369885245683, 0.68972553936413727, 0.69577712603620179, 0.70195532783629289, 0.69362486355349939, 0.7067164002629005, 0.69993796604959102, 0.68584968042548478, 0.69029750088667674, 0.68490957267259778]), ({'penalty': 'l2', 'C': 0.001}, {'alpha': 0.1}, [0.69988462707238031, 0.68972543364003425, 0.69577805552650651, 0.70194395386670849, 0.69362299312228826, 0.70671975285243471, 0.6999433014591927, 0.68584952824625578, 0.69030605128315492, 0.68490383762221541]), ({'penalty': 'l2', 'C': 0.001}, {'alpha': 1}, [0.69988112399359004, 0.68971167444617465, 0.69577688343500976, 0.70182242864577482, 0.69359753403728397, 0.70674712091379666, 0.69998154626782538, 0.68583488248933611, 0.69037305319929509, 0.68483634351213263]), ({'penalty': 'l2', 'C': 0.001}, {'alpha': 10}, [0.6992834991692648, 0.68905444907403224, 0.69531886555283151, 0.70032373971393014, 0.69303900051358469, 0.70667996769167596, 0.69970822788196341, 0.6851070451507586, 0.6902223722462415, 0.683785960887342]), ({'penalty': 'l2', 'C': 0.001}, {'alpha': 100}, [0.69032203613486698, 0.67999108345272641, 0.68766895637972913, 0.68727789197812084, 0.68373722043290308, 0.69893348317527126, 0.69212112429045192, 0.67448973867446105, 0.6828329845701937, 0.67392667453676647]), ({'penalty': 'l2', 'C': 0.01}, {'alpha': 0.0001}, [0.69988358080060165, 0.68972553497550271, 0.69577701065217301, 0.70195656905298831, 0.69362506081422781, 0.70671602390974142, 0.69993736023865838, 0.68584968079572683, 0.69029653727307405, 0.68491019063298264]), ({'penalty': 'l2', 'C': 0.01}, {'alpha': 0.001}, [0.69988359166479142, 0.68972553550740945, 0.6957770212506339, 0.70195645629751935, 0.69362504295184957, 0.70671605818632643, 0.69993741546925081, 0.68584968089776954, 0.69029662506555056, 0.68491013456186767]), ({'penalty': 'l2', 'C': 0.01}, {'alpha': 0.01}, [0.69988369885245683, 0.68972553936413727, 0.69577712603620179, 0.70195532783629289, 0.69362486355349939, 0.7067164002629005, 0.69993796604959102, 0.68584968042548478, 0.69029750088667674, 0.68490957267259778]), ({'penalty': 'l2', 'C': 0.01}, {'alpha': 0.1}, [0.69988462707238031, 0.68972543364003425, 0.69577805552650651, 0.70194395386670849, 0.69362299312228826, 0.70671975285243471, 0.6999433014591927, 0.68584952824625578, 0.69030605128315492, 0.68490383762221541]), ({'penalty': 'l2', 'C': 0.01}, {'alpha': 1}, [0.69988112399359004, 0.68971167444617465, 0.69577688343500976, 0.70182242864577482, 0.69359753403728397, 0.70674712091379666, 0.69998154626782538, 0.68583488248933611, 0.69037305319929509, 0.68483634351213263]), ({'penalty': 'l2', 'C': 0.01}, {'alpha': 10}, [0.6992834991692648, 0.68905444907403224, 0.69531886555283151, 0.70032373971393014, 0.69303900051358469, 0.70667996769167596, 0.69970822788196341, 0.6851070451507586, 0.6902223722462415, 0.683785960887342]), ({'penalty': 'l2', 'C': 0.01}, {'alpha': 100}, [0.69032203613486698, 0.67999108345272641, 0.68766895637972913, 0.68727789197812084, 0.68373722043290308, 0.69893348317527126, 0.69212112429045192, 0.67448973867446105, 0.6828329845701937, 0.67392667453676647]), ({'penalty': 'l2', 'C': 0.1}, {'alpha': 0.0001}, [0.69988358080060165, 0.68972553497550271, 0.69577701065217301, 0.70195656905298831, 0.69362506081422781, 0.70671602390974142, 0.69993736023865838, 0.68584968079572683, 0.69029653727307405, 0.68491019063298264]), ({'penalty': 'l2', 'C': 0.1}, {'alpha': 0.001}, [0.69988359166479142, 0.68972553550740945, 0.6957770212506339, 0.70195645629751935, 0.69362504295184957, 0.70671605818632643, 0.69993741546925081, 0.68584968089776954, 0.69029662506555056, 0.68491013456186767]), ({'penalty': 'l2', 'C': 0.1}, {'alpha': 0.01}, [0.69988369885245683, 0.68972553936413727, 0.69577712603620179, 0.70195532783629289, 0.69362486355349939, 0.7067164002629005, 0.69993796604959102, 0.68584968042548478, 0.69029750088667674, 0.68490957267259778]), ({'penalty': 'l2', 'C': 0.1}, {'alpha': 0.1}, [0.69988462707238031, 0.68972543364003425, 0.69577805552650651, 0.70194395386670849, 0.69362299312228826, 0.70671975285243471, 0.6999433014591927, 0.68584952824625578, 0.69030605128315492, 0.68490383762221541]), ({'penalty': 'l2', 'C': 0.1}, {'alpha': 1}, [0.69988112399359004, 0.68971167444617465, 0.69577688343500976, 0.70182242864577482, 0.69359753403728397, 0.70674712091379666, 0.69998154626782538, 0.68583488248933611, 0.69037305319929509, 0.68483634351213263]), ({'penalty': 'l2', 'C': 0.1}, {'alpha': 10}, [0.6992834991692648, 0.68905444907403224, 0.69531886555283151, 0.70032373971393014, 0.69303900051358469, 0.70667996769167596, 0.69970822788196341, 0.6851070451507586, 0.6902223722462415, 0.683785960887342]), ({'penalty': 'l2', 'C': 0.1}, {'alpha': 100}, [0.69032203613486698, 0.67999108345272641, 0.68766895637972913, 0.68727789197812084, 0.68373722043290308, 0.69893348317527126, 0.69212112429045192, 0.67448973867446105, 0.6828329845701937, 0.67392667453676647]), ({'penalty': 'l2', 'C': 1}, {'alpha': 0.0001}, [0.69988358080060165, 0.68972553497550271, 0.69577701065217301, 0.70195656905298831, 0.69362506081422781, 0.70671602390974142, 0.69993736023865838, 0.68584968079572683, 0.69029653727307405, 0.68491019063298264]), ({'penalty': 'l2', 'C': 1}, {'alpha': 0.001}, [0.69988359166479142, 0.68972553550740945, 0.6957770212506339, 0.70195645629751935, 0.69362504295184957, 0.70671605818632643, 0.69993741546925081, 0.68584968089776954, 0.69029662506555056, 0.68491013456186767]), ({'penalty': 'l2', 'C': 1}, {'alpha': 0.01}, [0.69988369885245683, 0.68972553936413727, 0.69577712603620179, 0.70195532783629289, 0.69362486355349939, 0.7067164002629005, 0.69993796604959102, 0.68584968042548478, 0.69029750088667674, 0.68490957267259778]), ({'penalty': 'l2', 'C': 1}, {'alpha': 0.1}, [0.69988462707238031, 0.68972543364003425, 0.69577805552650651, 0.70194395386670849, 0.69362299312228826, 0.70671975285243471, 0.6999433014591927, 0.68584952824625578, 0.69030605128315492, 0.68490383762221541]), ({'penalty': 'l2', 'C': 1}, {'alpha': 1}, [0.69988112399359004, 0.68971167444617465, 0.69577688343500976, 0.70182242864577482, 0.69359753403728397, 0.70674712091379666, 0.69998154626782538, 0.68583488248933611, 0.69037305319929509, 0.68483634351213263]), ({'penalty': 'l2', 'C': 1}, {'alpha': 10}, [0.6992834991692648, 0.68905444907403224, 0.69531886555283151, 0.70032373971393014, 0.69303900051358469, 0.70667996769167596, 0.69970822788196341, 0.6851070451507586, 0.6902223722462415, 0.683785960887342]), ({'penalty': 'l2', 'C': 1}, {'alpha': 100}, [0.69032203613486698, 0.67999108345272641, 0.68766895637972913, 0.68727789197812084, 0.68373722043290308, 0.69893348317527126, 0.69212112429045192, 0.67448973867446105, 0.6828329845701937, 0.67392667453676647]), ({'penalty': 'l2', 'C': 10}, {'alpha': 0.0001}, [0.69988358080060165, 0.68972553497550271, 0.69577701065217301, 0.70195656905298831, 0.69362506081422781, 0.70671602390974142, 0.69993736023865838, 0.68584968079572683, 0.69029653727307405, 0.68491019063298264]), ({'penalty': 'l2', 'C': 10}, {'alpha': 0.001}, [0.69988359166479142, 0.68972553550740945, 0.6957770212506339, 0.70195645629751935, 0.69362504295184957, 0.70671605818632643, 0.69993741546925081, 0.68584968089776954, 0.69029662506555056, 0.68491013456186767]), ({'penalty': 'l2', 'C': 10}, {'alpha': 0.01}, [0.69988369885245683, 0.68972553936413727, 0.69577712603620179, 0.70195532783629289, 0.69362486355349939, 0.7067164002629005, 0.69993796604959102, 0.68584968042548478, 0.69029750088667674, 0.68490957267259778]), ({'penalty': 'l2', 'C': 10}, {'alpha': 0.1}, [0.69988462707238031, 0.68972543364003425, 0.69577805552650651, 0.70194395386670849, 0.69362299312228826, 0.70671975285243471, 0.6999433014591927, 0.68584952824625578, 0.69030605128315492, 0.68490383762221541]), ({'penalty': 'l2', 'C': 10}, {'alpha': 1}, [0.69988112399359004, 0.68971167444617465, 0.69577688343500976, 0.70182242864577482, 0.69359753403728397, 0.70674712091379666, 0.69998154626782538, 0.68583488248933611, 0.69037305319929509, 0.68483634351213263]), ({'penalty': 'l2', 'C': 10}, {'alpha': 10}, [0.6992834991692648, 0.68905444907403224, 0.69531886555283151, 0.70032373971393014, 0.69303900051358469, 0.70667996769167596, 0.69970822788196341, 0.6851070451507586, 0.6902223722462415, 0.683785960887342]), ({'penalty': 'l2', 'C': 10}, {'alpha': 100}, [0.69032203613486698, 0.67999108345272641, 0.68766895637972913, 0.68727789197812084, 0.68373722043290308, 0.69893348317527126, 0.69212112429045192, 0.67448973867446105, 0.6828329845701937, 0.67392667453676647]), ({'penalty': 'l2', 'C': 100}, {'alpha': 0.0001}, [0.69988358080060165, 0.68972553497550271, 0.69577701065217301, 0.70195656905298831, 0.69362506081422781, 0.70671602390974142, 0.69993736023865838, 0.68584968079572683, 0.69029653727307405, 0.68491019063298264]), ({'penalty': 'l2', 'C': 100}, {'alpha': 0.001}, [0.69988359166479142, 0.68972553550740945, 0.6957770212506339, 0.70195645629751935, 0.69362504295184957, 0.70671605818632643, 0.69993741546925081, 0.68584968089776954, 0.69029662506555056, 0.68491013456186767]), ({'penalty': 'l2', 'C': 100}, {'alpha': 0.01}, [0.69988369885245683, 0.68972553936413727, 0.69577712603620179, 0.70195532783629289, 0.69362486355349939, 0.7067164002629005, 0.69993796604959102, 0.68584968042548478, 0.69029750088667674, 0.68490957267259778]), ({'penalty': 'l2', 'C': 100}, {'alpha': 0.1}, [0.69988462707238031, 0.68972543364003425, 0.69577805552650651, 0.70194395386670849, 0.69362299312228826, 0.70671975285243471, 0.6999433014591927, 0.68584952824625578, 0.69030605128315492, 0.68490383762221541]), ({'penalty': 'l2', 'C': 100}, {'alpha': 1}, [0.69988112399359004, 0.68971167444617465, 0.69577688343500976, 0.70182242864577482, 0.69359753403728397, 0.70674712091379666, 0.69998154626782538, 0.68583488248933611, 0.69037305319929509, 0.68483634351213263]), ({'penalty': 'l2', 'C': 100}, {'alpha': 10}, [0.6992834991692648, 0.68905444907403224, 0.69531886555283151, 0.70032373971393014, 0.69303900051358469, 0.70667996769167596, 0.69970822788196341, 0.6851070451507586, 0.6902223722462415, 0.683785960887342]), ({'penalty': 'l2', 'C': 100}, {'alpha': 100}, [0.69032203613486698, 0.67999108345272641, 0.68766895637972913, 0.68727789197812084, 0.68373722043290308, 0.69893348317527126, 0.69212112429045192, 0.67448973867446105, 0.6828329845701937, 0.67392667453676647])]\n"
       ]
      }
     ],
     "prompt_number": 121
    },
    {
     "cell_type": "code",
     "collapsed": false,
     "input": [],
     "language": "python",
     "metadata": {},
     "outputs": [],
     "prompt_number": 2
    },
    {
     "cell_type": "code",
     "collapsed": false,
     "input": [
      "# Joint training on all cell types.\n",
      "\n",
      "indir = '/home/sofiakp/projects/roadmap/rnapred/feat_mat/\n",
      "for ex in ['E116']:\n",
      "    feat_mat_file = os.path.join(out_dir, ex + '_feat_mat.npz')\n",
      "    if not os.path.exists(feat_mat_file):\n",
      "            continue\n",
      "    outfile = os.path.join(cv_dir, ex + '_cv.npz')\n",
      "    data = np.load(feat_mat_file)\n",
      "    if not 'y' in data: \n",
      "        continue\n",
      "    feat = data['feat']\n",
      "    y = data['y']\n",
      "    data.close()\n",
      "    cv = cross_validation.ShuffleSplit(feat.shape[0], n_iter = 10, test_size = 0.1, random_state = 0) \n",
      "    cv_res = cross_validate_grid(cv, RFClassifierRFRegressor, params, params, feat, y, nproc = 10)\n",
      "    print cv_res\n",
      "    np.savez(outfile, cv_res = cv_res)"
     ],
     "language": "python",
     "metadata": {},
     "outputs": [
      {
       "output_type": "stream",
       "stream": "stdout",
       "text": [
        "0.690948817421\n",
        "0.678746344651"
       ]
      },
      {
       "output_type": "stream",
       "stream": "stdout",
       "text": [
        "\n",
        "0.678888301547"
       ]
      },
      {
       "output_type": "stream",
       "stream": "stdout",
       "text": [
        "\n"
       ]
      },
      {
       "output_type": "stream",
       "stream": "stderr",
       "text": [
        "/usr/local/lib/python2.7/dist-packages/numpy/lib/utils.py:1132: DeprecationWarning: The compiler package is deprecated and removed in Python 3.x.\n",
        "  import compiler\n"
       ]
      }
     ],
     "prompt_number": 11
    },
    {
     "cell_type": "code",
     "collapsed": false,
     "input": [
      "from multiprocessing import Pool\n",
      "def foo(x,y):\n",
      "    return x+y\n",
      "pool = Pool(3)\n",
      "res = []\n",
      "for i in range(10):\n",
      "    res_tmp = pool.apply_async(foo, (i, 2), callback = lambda x: res.append((i, x)))\n",
      "pool.close()\n",
      "pool.join()\n",
      "print res\n",
      "#print [r for r in res] #[r.get() for r in res]"
     ],
     "language": "python",
     "metadata": {},
     "outputs": [
      {
       "output_type": "stream",
       "stream": "stdout",
       "text": [
        "[(7, 2), (7, 3), (7, 5), (7, 4), (9, 6), (9, 7), (9, 8), (9, 9), (9, 10), (9, 11)]\n"
       ]
      }
     ],
     "prompt_number": 13
    },
    {
     "cell_type": "code",
     "collapsed": false,
     "input": [
      "print expt_name_idx\n",
      "print expt_names\n",
      "print np.mean(expr[110:113, [156, 157, 158]], axis =1)\n",
      "print expr_out[110:113, 30]\n",
      "[cel_names[i] for i in [91, 99, 107, 125]]\n",
      "array_file = '/home/sofiakp/projects/roadmap/rna/exon_arrays/gene_avg_expr.npz'\n",
      "data = np.load(array_file)\n",
      "print data['expr'].shape\n",
      "print data['gene_names'].shape"
     ],
     "language": "python",
     "metadata": {},
     "outputs": [
      {
       "output_type": "stream",
       "stream": "stdout",
       "text": [
        "{'E029': [91, 99, 107, 125], 'E021': [59], 'E022': [58], 'E128': [17, 18], 'E129': [156, 157, 158], 'E125': [25, 26], 'E126': [23, 24], 'E127': [16, 154, 155], 'E120': [49, 50, 51, 106, 139, 140, 141], 'E121': [142, 143, 144], 'E122': [15, 52, 145, 146], 'E123': [10, 11, 12, 147, 148, 149, 150, 151, 152, 153], 'E088': [30, 35, 40, 41, 44, 45, 46, 60, 62, 63, 64, 65, 75, 76, 104, 113, 114, 119, 120], 'E083': [28, 34, 66, 68, 69, 71, 74, 77, 82, 109], 'E082': [43, 54, 55], 'E081': [79], 'E080': [27, 56], 'E086': [29, 67, 70, 72, 73, 81, 84, 85, 93, 97, 98, 102, 103, 116, 117], 'E085': [2, 83, 86, 95, 111, 112, 118], 'E084': [0, 1, 3, 87, 94], 'E114': [47, 48, 126, 127], 'E117': [6, 14, 131, 132, 133], 'E116': [4, 5, 13, 128, 129, 130], 'E017': [20, 21, 38, 39], 'E034': [88, 121], 'E119': [9, 137, 138], 'E118': [7, 8, 134, 135, 136], 'E051': [42, 53], 'E033': [122, 123], 'E090': [100], 'E093': [80, 110]}\n",
        "['E084', 'E085', 'E116', 'E117', 'E118', 'E119', 'E123', 'E122', 'E127', 'E128', 'E017', 'E126', 'E125', 'E080', 'E083', 'E086', 'E088', 'E051', 'E082', 'E114', 'E120', 'E022', 'E021', 'E081', 'E093', 'E034', 'E029', 'E090', 'E033', 'E121', 'E129']\n",
        "[ 9.83581667  8.63029667  8.63029667]\n",
        "[ 9.83581667  8.63029667  8.63029667]\n",
        "(18589, 31)\n",
        "(18589,)\n"
       ]
      }
     ],
     "prompt_number": 4
    },
    {
     "cell_type": "code",
     "collapsed": false,
     "input": [
      "def kl(p, q):\n",
      "    m = (p+q)/2\n",
      "    return np.sum(np.where(p == 0, 0, p * np.log2(p/m) + q * np.log2(q/m)))\n",
      "\n",
      "p = np.array([0.0, 0.0, 0.0, 1])\n",
      "q = np.array([0.1, 0.0, 0.1, 0.8])\n",
      "print kl(p, q)"
     ],
     "language": "python",
     "metadata": {},
     "outputs": [
      {
       "output_type": "stream",
       "stream": "stdout",
       "text": [
        "0.0160630922912\n"
       ]
      }
     ],
     "prompt_number": 30
    },
    {
     "cell_type": "code",
     "collapsed": false,
     "input": [
      "np.reshape(np.max(feat, axis = 0), (1, 24)).T.shape"
     ],
     "language": "python",
     "metadata": {},
     "outputs": [
      {
       "metadata": {},
       "output_type": "pyout",
       "prompt_number": 106,
       "text": [
        "(24, 1)"
       ]
      }
     ],
     "prompt_number": 106
    },
    {
     "cell_type": "code",
     "collapsed": false,
     "input": [
      "files = os.listdir('/home/sofiakp/projects/roadmap/rnapred/feat_mat/')\n",
      "[f for f in files if f.endswith('.npz')]"
     ],
     "language": "python",
     "metadata": {},
     "outputs": [
      {
       "metadata": {},
       "output_type": "pyout",
       "prompt_number": 31,
       "text": [
        "['E021_feat_mat.npz',\n",
        " 'E121_feat_mat.npz',\n",
        " 'E129_feat_mat.npz',\n",
        " 'E022_feat_mat.npz',\n",
        " 'E085_feat_mat.npz',\n",
        " 'E033_feat_mat.npz',\n",
        " 'E114_feat_mat.npz',\n",
        " 'E090_feat_mat.npz',\n",
        " 'E051_feat_mat.npz',\n",
        " 'E086_feat_mat.npz',\n",
        " 'E029_feat_mat.npz',\n",
        " 'E122_feat_mat.npz',\n",
        " 'E116_feat_mat.npz',\n",
        " 'E125_feat_mat.npz',\n",
        " 'E080_feat_mat.npz',\n",
        " 'E120_feat_mat.npz',\n",
        " 'E034_feat_mat.npz',\n",
        " 'E088_feat_mat.npz',\n",
        " 'E118_feat_mat.npz',\n",
        " 'E123_feat_mat.npz',\n",
        " 'E017_feat_mat.npz',\n",
        " 'E081_feat_mat.npz',\n",
        " 'E082_feat_mat.npz',\n",
        " 'E127_feat_mat.npz',\n",
        " 'E128_feat_mat.npz',\n",
        " 'E084_feat_mat.npz',\n",
        " 'E119_feat_mat.npz',\n",
        " 'E117_feat_mat.npz',\n",
        " 'E093_feat_mat.npz',\n",
        " 'E083_feat_mat.npz',\n",
        " 'E126_feat_mat.npz']"
       ]
      }
     ],
     "prompt_number": 31
    },
    {
     "cell_type": "code",
     "collapsed": false,
     "input": [
      "import rpy2.robjects.lib.ggplot2 as ggplot2\n",
      "import rpy2.robjects as ro\n",
      "from rpy2.robjects.packages import importr\n",
      "\n",
      "df = ro.DataFrame({'a':ro.FloatVector([1,2,3])})\n",
      "print df"
     ],
     "language": "python",
     "metadata": {},
     "outputs": [
      {
       "output_type": "stream",
       "stream": "stdout",
       "text": [
        "  a\n",
        "1 1\n",
        "2 2\n",
        "3 3\n",
        "\n"
       ]
      }
     ],
     "prompt_number": 41
    },
    {
     "cell_type": "code",
     "collapsed": false,
     "input": [
      "annot_file = '/home/sofiakp/scg3_lab/users/sofiakp/data/Affymetrix/annotations/HuEx-1_0-st-v2.na33.1.hg19.transcript.csv'\n",
      "affy_output = '/home/sofiakp/scg3_lab/users/sofiakp/roadmap/rna/exon_arrays/rma-sketch.summary.txt'\n",
      "cel_map_file = '/home/sofiakp/scg3_lab/users/sofiakp/roadmap/data/rna/exon_arrays/cel_name_map.txt'\n",
      "\n",
      "(gene_idx, genes, id_to_gene) = transcript_ids_to_genes(annot_file)\n",
      "(expr, genes, cel_names) = read_affy_summary(affy_output, genes, gene_idx, id_to_gene)\n",
      "(expr_out, expt_names, expt_name_idx) = average_expt_cels(cel_map_file, expr, cel_names)"
     ],
     "language": "python",
     "metadata": {},
     "outputs": [],
     "prompt_number": 7
    },
    {
     "cell_type": "code",
     "collapsed": false,
     "input": [
      "(expt_names, expt_name_idx) = get_expt_map(cel_map_file, cel_names)\n",
      "summary = plot_cels(expr, expt_names, expt_name_idx, cel_names, '/home/sofiakp/projects/roadmap/rna/exon_arrays/corr_plots')"
     ],
     "language": "python",
     "metadata": {},
     "outputs": [],
     "prompt_number": 14
    },
    {
     "cell_type": "code",
     "collapsed": false,
     "input": [],
     "language": "python",
     "metadata": {},
     "outputs": []
    }
   ],
   "metadata": {}
  }
 ]
}